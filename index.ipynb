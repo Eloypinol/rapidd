{
 "cells": [
  {
   "cell_type": "code",
   "execution_count": null,
   "metadata": {},
   "outputs": [],
   "source": [
    "#hide\n",
    "from rapidd.core import *\n",
    "import torch\n",
    "from itertools import product"
   ]
  },
  {
   "cell_type": "code",
   "execution_count": null,
   "metadata": {},
   "outputs": [],
   "source": [
    "from ebm.models import RBM"
   ]
  },
  {
   "cell_type": "code",
   "execution_count": null,
   "metadata": {},
   "outputs": [],
   "source": [
    "from rapidd.core import *"
   ]
  },
  {
   "cell_type": "markdown",
   "metadata": {},
   "source": [
    "# Project name here\n",
    "\n",
    "> Summary description here."
   ]
  },
  {
   "cell_type": "markdown",
   "metadata": {},
   "source": [
    "This file will become your README and also the index of your documentation."
   ]
  },
  {
   "cell_type": "markdown",
   "metadata": {},
   "source": [
    "## Install"
   ]
  },
  {
   "cell_type": "markdown",
   "metadata": {},
   "source": [
    "`pip install your_project_name`"
   ]
  },
  {
   "cell_type": "markdown",
   "metadata": {},
   "source": [
    "## How to use"
   ]
  },
  {
   "cell_type": "markdown",
   "metadata": {},
   "source": [
    "Fill me in please! Don't forget code examples:"
   ]
  },
  {
   "cell_type": "code",
   "execution_count": null,
   "metadata": {},
   "outputs": [
    {
     "data": {
      "text/plain": [
       "2"
      ]
     },
     "execution_count": null,
     "metadata": {},
     "output_type": "execute_result"
    }
   ],
   "source": [
    "1+1"
   ]
  },
  {
   "cell_type": "code",
   "execution_count": null,
   "metadata": {},
   "outputs": [
    {
     "data": {
      "text/plain": [
       "'Hello Eloy!'"
      ]
     },
     "execution_count": null,
     "metadata": {},
     "output_type": "execute_result"
    }
   ],
   "source": [
    "say_hello(\"Eloy\")"
   ]
  },
  {
   "cell_type": "markdown",
   "metadata": {},
   "source": [
    "## Aqui empieza Comparison"
   ]
  },
  {
   "cell_type": "code",
   "execution_count": null,
   "metadata": {},
   "outputs": [],
   "source": [
    "import torch\n",
    "from itertools import product"
   ]
  },
  {
   "cell_type": "code",
   "execution_count": null,
   "metadata": {},
   "outputs": [],
   "source": [
    "#------------------------------------------------------------------------------\n",
    "# Parameter choices\n",
    "#------------------------------------------------------------------------------\n",
    "hidd     = 1000        # Number of nodes in the hidden layer\n",
    "rapid_lr = 0.02        # Learning rate for RAPID\n",
    "epochs   = 300         # Training epochs\n",
    "K        = 8           # Number of patterns for RA model\n",
    "bs_rapid = 3           # Batch size for RAPID\n",
    "gpu      = False        # Use of GPU"
   ]
  },
  {
   "cell_type": "code",
   "execution_count": null,
   "metadata": {},
   "outputs": [],
   "source": [
    "#------------------------------------------------------------------------------\n",
    "# Data preparation\n",
    "#------------------------------------------------------------------------------\n",
    "# =============================================================================\n",
    "device = torch.device('cuda' if gpu and torch.cuda.is_available() else 'cpu')\n",
    "\n",
    "all_datasets = create_bars_4x4()\n",
    "for _ in all_datasets:\n",
    "    dataset = all_datasets.pop(0)\n",
    "    dataset = dataset.to(device)\n",
    "    all_datasets.append(dataset)\n",
    "\n",
    "train_set, recon_train, test_set, recon_test = all_datasets\n",
    "\n",
    "vis = len(train_set[0])\n",
    "\n",
    "all_confs = torch.Tensor(list(product([-1, 1], repeat=vis))).to(device)\n",
    "\n",
    "\n",
    "# Construct Models\n",
    "\n",
    "opt_ra  = SGD_xi(rapid_lr)\n",
    "\n",
    "rbm_ra = RA_RBM(n_visible=vis,\n",
    "                n_hidden=hidd,\n",
    "                K=K,\n",
    "                optimizer=opt_ra,\n",
    "                device=device\n",
    "                ).to(device)\n",
    "\n",
    "# -----------------------------------------------------------------------------\n",
    "# Training\n",
    "# -----------------------------------------------------------------------------\n",
    "\n",
    "machines = [rbm_ra]\n",
    "\n",
    "for epoch in range(epochs):\n",
    "    train_loader_rapid = torch.utils.data.DataLoader(train_set,\n",
    "                                                     batch_size=bs_rapid,\n",
    "                                                     shuffle=True)\n",
    "\n",
    "\n",
    "    rbm_ra.train(train_loader_rapid)"
   ]
  },
  {
   "cell_type": "code",
   "execution_count": null,
   "metadata": {},
   "outputs": [],
   "source": []
  }
 ],
 "metadata": {
  "kernelspec": {
   "display_name": "Python 3",
   "language": "python",
   "name": "python3"
  }
 },
 "nbformat": 4,
 "nbformat_minor": 2
}
